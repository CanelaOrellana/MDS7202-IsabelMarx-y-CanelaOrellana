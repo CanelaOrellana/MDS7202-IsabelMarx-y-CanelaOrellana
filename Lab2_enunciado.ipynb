{
  "cells": [
    {
      "cell_type": "markdown",
      "metadata": {
        "cell_id": "567e3e8f1ac2430483c12975f41b3306",
        "deepnote_cell_height": 104.390625,
        "deepnote_cell_type": "markdown",
        "id": "cd7b1b55"
      },
      "source": [
        "<h1><center>Laboratorio 2: Primeros pasos 👣</center></h1>\n",
        "\n",
        "<center><strong>MDS7202: Laboratorio de Programación Científica para Ciencia de Datos - Otoño 2023</strong></center>"
      ]
    },
    {
      "cell_type": "markdown",
      "metadata": {
        "cell_id": "4464ba8e552d41a19d445e7746b72ef6",
        "deepnote_cell_height": 165.1875,
        "deepnote_cell_type": "markdown",
        "id": "Vp_vOHK7V97e"
      },
      "source": [
        "### Cuerpo Docente:\n",
        "\n",
        "- Profesor: Pablo Badilla y Ignacio Meza \n",
        "- Auxiliar: Sebastián Tinoco\n",
        "- Ayudante: Felipe Arias y Diego Cortez"
      ]
    },
    {
      "cell_type": "markdown",
      "metadata": {
        "cell_id": "4979683740cb498ab200a981cfafc91c",
        "deepnote_cell_height": 171.796875,
        "deepnote_cell_type": "markdown",
        "id": "4N_5AYgyWKyA"
      },
      "source": [
        "### Equipo: SUPER IMPORTANTE - notebooks sin nombre no serán revisados\n",
        "\n",
        "- Nombre de alumno 1: Isabel Marx\n",
        "- Nombre de alumno 2: Canela Orellana\n"
      ]
    },
    {
      "cell_type": "markdown",
      "metadata": {
        "cell_id": "1470f393cb414d2094db386ff745702c",
        "deepnote_cell_height": 62,
        "deepnote_cell_type": "markdown",
        "id": "1rjlaJDEWxd9"
      },
      "source": [
        "### **Link de repositorio de GitHub:** [https://github.com/CanelaOrellana/MDS7202-IsabelMarx-y-CanelaOrellana]"
      ]
    },
    {
      "cell_type": "markdown",
      "metadata": {
        "cell_id": "e30789b4d0e545569e96fe8c91897281",
        "deepnote_cell_height": 271.796875,
        "deepnote_cell_type": "markdown",
        "id": "9el9ERaKWW3i"
      },
      "source": [
        "## Reglas:\n",
        "\n",
        "- Fecha de entrega: 6 días desde la publicación, 3 días de atraso con 1 punto de descuento c/u. Pueden utilizar días bonus sin descuento.\n",
        "- **Grupos de 2 personas**.\n",
        "- Asistencia obligatoria a instrucciones del lab (viernes 16.15). Luego, pueden quedarse trabajando en las salas o irse.\n",
        "- **Ausentes** deberán realizar la actividad solos. \n",
        "- Cualquier duda fuera del horario de clases al foro. Mensajes al equipo docente serán respondidos por este medio.\n",
        "- Prohibidas las copias. \n",
        "- Pueden usar cualquer material del curso que estimen conveniente."
      ]
    },
    {
      "cell_type": "markdown",
      "metadata": {
        "cell_id": "6cb6045130834122bfa5a6c323983a68",
        "deepnote_cell_height": 249.390625,
        "deepnote_cell_type": "markdown",
        "id": "4708b9b7"
      },
      "source": [
        "\n",
        "## Objetivos del lab:\n",
        "\n",
        "Poner en práctica los tópicos básicos del lenguaje de programación Python vistos en clases.\n",
        "\n",
        "- Variables, Operadores y Expresiones.\n",
        "- Estructuras de Control (if/else).\n",
        "- Iteraciones.\n",
        "- Listas y Diccionarios.\n",
        "- Funciones\n",
        "- Programación Orientada a Objetos (Encapsulamiento, Polimorfismo y Herencia)"
      ]
    },
    {
      "cell_type": "markdown",
      "metadata": {
        "cell_id": "9085bd920a594bc2a52a3bfdce32e21f",
        "deepnote_cell_height": 567.09375,
        "deepnote_cell_type": "markdown",
        "id": "d58b089c"
      },
      "source": [
        "## Parte 1: 🍋 Frutas 🍓\n",
        "\n",
        "\n",
        "<div align='center'>\n",
        "<img src='https://upload.wikimedia.org/wikipedia/commons/a/a2/Berries_in_Berlin.jpg' width=600/>\n",
        "</div>"
      ]
    },
    {
      "cell_type": "markdown",
      "metadata": {
        "cell_id": "f6bb1ca25b6c4e159a32bf0b9630447d",
        "deepnote_cell_height": 259.59375,
        "deepnote_cell_type": "markdown",
        "id": "5fdf6b19"
      },
      "source": [
        "Defina las siguientes frutas como diccionarios a partir de sus características (nombre, color, tipo y si posee o no pepas):\n",
        "\n",
        "| Nombre    | Tipo     | Color    | Pepas |\n",
        "|-----------|----------|----------|-------|\n",
        "| limon     | cítrica  | amarillo | True  |\n",
        "| naranja   | cítrica  | naranjo  | True  |\n",
        "| plátano   | tropical | amarillo | False |\n",
        "| piña      | tropical | amarillo | False |\n",
        "| frutilla  | bosque   | rojo     | True |\n",
        "| frambuesa | bosque   | rojo     | True |"
      ]
    },
    {
      "cell_type": "markdown",
      "metadata": {
        "cell_id": "4566ac14c4fc4a9c9dec81e5def40a60",
        "deepnote_cell_height": 122.796875,
        "deepnote_cell_type": "markdown",
        "id": "33aed47b"
      },
      "source": [
        "### [0.5] Estructurar Datos \n",
        "\n",
        "Agregue Piña, Frutilla y Frambuesa como diccionarios (siga los ejemplos de las frutas dadas) y luego cree una lista que contenga estas frutas.\n"
      ]
    },
    {
      "cell_type": "code",
      "execution_count": 1,
      "metadata": {
        "cell_id": "85cec9afb1044dfc9e588800f2ec12cf",
        "deepnote_cell_type": "code",
        "deepnote_to_be_reexecuted": false,
        "execution_millis": 22,
        "execution_start": 1648863016482,
        "id": "26d23e26",
        "source_hash": "56db5a38"
      },
      "outputs": [],
      "source": [
        "limon = {\n",
        "    \"nombre\": \"limón\", \n",
        "    \"tipo\": \"cítrica\", \n",
        "    \"color\": \"amarillo\", \n",
        "    \"pepas\": True\n",
        "    }\n",
        "\n",
        "naranja = {\"nombre\": \"naranja\", \n",
        "           \"tipo\": \"cítrica\", \n",
        "           \"color\": \"naranjo\", \n",
        "           \"pepas\": True\n",
        "          }\n",
        "\n",
        "platano = {\"nombre\": \"plátano\", \n",
        "           \"tipo\": \"tropical\", \n",
        "           \"color\": \"amarillo\", \n",
        "           \"pepas\": False\n",
        "          }\n",
        "\n",
        "piña = {\"nombre\": \"piña\", \n",
        "           \"tipo\": \"tropical\", \n",
        "           \"color\": \"amarillo\", \n",
        "           \"pepas\": False\n",
        "          }\n",
        "\n",
        "frutilla = {\"nombre\": \"frutilla\", \n",
        "           \"tipo\": \"bosque\", \n",
        "           \"color\": \"rojo\", \n",
        "           \"pepas\": True\n",
        "          }\n",
        "\n",
        "frambuesa = {\"nombre\": \"frambuesa\", \n",
        "           \"tipo\": \"bosque\", \n",
        "           \"color\": \"rojo\", \n",
        "           \"pepas\": True\n",
        "          }"
      ]
    },
    {
      "cell_type": "markdown",
      "metadata": {
        "cell_id": "450f0542818f4605b92e4aa94d47ce25",
        "deepnote_cell_height": 52.390625,
        "deepnote_cell_type": "markdown",
        "id": "259ee333"
      },
      "source": [
        "Ahora, agregue todas las frutas a una lista."
      ]
    },
    {
      "cell_type": "code",
      "execution_count": 2,
      "metadata": {
        "cell_id": "fcf275e66bb44531b98ec3f19a7da467",
        "deepnote_cell_type": "code",
        "deepnote_to_be_reexecuted": false,
        "execution_millis": 29,
        "execution_start": 1648863016524,
        "id": "fcf62186",
        "source_hash": "78d4e62"
      },
      "outputs": [],
      "source": [
        "# Ojo: agregue los datos en el mismo orden que aparecen en la tabla\n",
        "datos = [limon, naranja, platano, piña, frutilla, frambuesa]"
      ]
    },
    {
      "cell_type": "markdown",
      "metadata": {
        "cell_id": "6368768f93684ef3a2684d4dbcfdb6df",
        "deepnote_cell_height": 52.390625,
        "deepnote_cell_type": "markdown",
        "id": "2ed7730e"
      },
      "source": [
        "Esta lista será la información con la que se trabajará durante el lab."
      ]
    },
    {
      "cell_type": "markdown",
      "metadata": {
        "cell_id": "27cab0ecd65b4b5db1687a40be370a1c",
        "deepnote_cell_height": 62,
        "deepnote_cell_type": "markdown",
        "id": "e9b1e46d"
      },
      "source": [
        "### Funciones Aplicadas a los Datos [2.5 puntos]\n",
        "\n",
        "En esta sección se les pide generar una serie de funciones que cumplan diferentes propósitos. Un aspecto clave de la programación funcional es la apropiada **documentación** de lo que ustedes generen. Si bien existen diferentes formas de documentar código, una de las mas usadas es el formato docstring de `numpy`:\n",
        "\n",
        "```python\n",
        "# manual para describir:\n",
        "# https://numpydoc.readthedocs.io/en/latest/format.html\n",
        "\n",
        "# plantilla (agregar todos los argumentos que sean necesarios)\n",
        "# pensar _type_ como los tipos básicos que hemos visto hasta ahora: int, float, string, list, dict, tuple, set, etc...\n",
        "\n",
        "def funcion_generica(arg1, arg2):\n",
        "    \"\"\"_summary_\n",
        "\n",
        "    Parameters\n",
        "    ----------\n",
        "    arg1 : _type_\n",
        "        _description_\n",
        "    arg2 : _type_\n",
        "        _description_\n",
        "\n",
        "    Returns\n",
        "    -------\n",
        "    _type_\n",
        "        _description_\n",
        "    \"\"\"\n",
        "    return ...\n",
        "```\n"
      ]
    },
    {
      "cell_type": "markdown",
      "metadata": {
        "cell_id": "521da380d1c94a21a3bbdec5077e4cba",
        "deepnote_cell_type": "markdown",
        "id": "QgaU2sT4ugbE"
      },
      "source": [
        "Considerando esto y **sin olvidar la documentación**, se les pide generar las siguientes funciones:\n",
        "\n",
        "**1. La función `generar_descripcion(fruta)` que reciba una fruta genere una descripción de la fruta de la siguiente manera:**\n",
        "\n",
        "```{El/La} {...} es una fruta de tipo {...} de color {...}. {Presenta/No presenta} pepas en su interior.```\n",
        "    \n",
        "Por ejemplo, `generar_descripcion(plátano)` debe generar el siguiente string:\n",
        "    \n",
        "```\n",
        "'El plátano es una fruta de tipo tropical de color amarillo. No presenta pepas en su interior.'\n",
        "```\n",
        "    \n",
        "Indicaciones: \n",
        "- Usen formateo o suma de strings, if, else y for.\n",
        "- Para saber si ocupar 'El' o 'La', pueden acceder al nombre de la fruta y ver cual es el último carácter a través de indexadores `string[indice]`.\n",
        "- Utilice los siguientes test para corroborar el funcionamiento de su código:\n",
        "\n",
        "```python\n",
        "assert generar_descripcion(limon) == \"El limón es una fruta de tipo cítrica de color amarillo. Presenta pepas en su interior.\"\n",
        "assert generar_descripcion(naranja) == \"La naranja es una fruta de tipo cítrica de color naranjo. Presenta pepas en su interior.\"\n",
        "assert generar_descripcion(platano) == \"El plátano es una fruta de tipo tropical de color amarillo. No presenta pepas en su interior.\"\n",
        "assert generar_descripcion(piña) == \"La piña es una fruta de tipo tropical de color amarillo. No presenta pepas en su interior.\"\n",
        "assert generar_descripcion(frutilla) == \"La frutilla es una fruta de tipo bosque de color rojo. Presenta pepas en su interior.\"\n",
        "assert generar_descripcion(frambuesa) == \"La frambuesa es una fruta de tipo bosque de color rojo. Presenta pepas en su interior.\"\n",
        "```"
      ]
    },
    {
      "cell_type": "code",
      "execution_count": 3,
      "metadata": {
        "cell_id": "533c38d09f7546a9ba5ede71227f9409",
        "deepnote_cell_type": "code",
        "id": "sAgDxfxsugbE"
      },
      "outputs": [],
      "source": [
        "def generar_descripcion(fruta):\n",
        "    # Documentación Aquí\n",
        "    \"\"\"esta función describe en palabras la fruta a partir de su diccionario\n",
        "\n",
        "    Parametros\n",
        "    ----------\n",
        "    fruta : dict\n",
        "        diccionario con información de una fruta específica\n",
        "\n",
        "    Return\n",
        "    -------\n",
        "    string\n",
        "        representa una descripción de la fruta, condtruida a partir de la información en el diccionario\n",
        "    \"\"\"\n",
        "    # Código Aquí\n",
        "    #Obtenemos la informacion del diccionario\n",
        "    nombre = fruta[\"nombre\"]\n",
        "    tipo = fruta[\"tipo\"]\n",
        "    color = fruta[\"color\"]\n",
        "    pepas = fruta[\"pepas\"]\n",
        "    \n",
        "    #A partir de pepas se obtiene el string para describir si presenta o no pepas\n",
        "    if pepas:\n",
        "        pepas = \". Presenta\"\n",
        "    else:\n",
        "        pepas = \". No presenta\"\n",
        "        \n",
        "    #Obtenemos el artículo, para ello se observa la última letra del nombre de la fruta\n",
        "    articulo = \"La \"\n",
        "    if nombre[-1] != \"a\":\n",
        "        articulo = \"El \"\n",
        "    else: \n",
        "        pass\n",
        "    \n",
        "    descripcion = articulo + nombre + \" es una fruta de tipo \" + tipo + \" de color \" + color + pepas + \" pepas en su interior.\"\n",
        "    \n",
        "    return descripcion\n",
        "#asserts\n",
        "assert generar_descripcion(limon) == \"El limón es una fruta de tipo cítrica de color amarillo. Presenta pepas en su interior.\"\n",
        "assert generar_descripcion(naranja) == \"La naranja es una fruta de tipo cítrica de color naranjo. Presenta pepas en su interior.\"\n",
        "assert generar_descripcion(platano) == \"El plátano es una fruta de tipo tropical de color amarillo. No presenta pepas en su interior.\"\n",
        "assert generar_descripcion(piña) == \"La piña es una fruta de tipo tropical de color amarillo. No presenta pepas en su interior.\"\n",
        "assert generar_descripcion(frutilla) == \"La frutilla es una fruta de tipo bosque de color rojo. Presenta pepas en su interior.\"\n",
        "assert generar_descripcion(frambuesa) == \"La frambuesa es una fruta de tipo bosque de color rojo. Presenta pepas en su interior.\""
      ]
    },
    {
      "cell_type": "markdown",
      "metadata": {
        "cell_id": "40f4763a10004bf9ac8f8d94a8cbe482",
        "deepnote_cell_type": "markdown",
        "id": "Msyqi1NXugbF"
      },
      "source": [
        "**2. La función `describir(datos)` que generalice la función `generar_descripcion` para recibir una lista de frutas y devolver una lista con las descripciones de cada una:**\n",
        "\n",
        "Por ejemplo, `describir([limon, naranja]])` deberá devolver una lista de la forma `[descripcion_limon, descripcion_naranja]`"
      ]
    },
    {
      "cell_type": "code",
      "execution_count": 4,
      "metadata": {
        "cell_id": "5b9a31f617b84bb9b8af2aa71a8249a8",
        "deepnote_cell_type": "code",
        "id": "ANkBi6mEugbF"
      },
      "outputs": [],
      "source": [
        "def describir(datos):\n",
        "    # Documentación Aquí\n",
        "    \"\"\"esta función me entrega la descripción de una lista de frutas, considerando los datos en el \n",
        "        diccionario de cada fruta\n",
        "\n",
        "    Parametros\n",
        "    ----------\n",
        "    datos : list\n",
        "        lista que contiene diccionarios que representan frutas\n",
        "\n",
        "    Return\n",
        "    -------\n",
        "    list\n",
        "        lista que contiene las descripciones de cada fruta en la lista \"datos\"\n",
        "    \"\"\"\n",
        "    # Código Aquí\n",
        "    \n",
        "    #Lista vacía que contendrá las descripciones\n",
        "    descripciones = []\n",
        "    \n",
        "    #Iteramos para obtener la descripción de cada fruta y añadirla en descripciones\n",
        "    for fruta in datos:\n",
        "        descripciones.append(generar_descripcion(fruta))\n",
        "    \n",
        "    return descripciones"
      ]
    },
    {
      "cell_type": "markdown",
      "metadata": {
        "cell_id": "096d40181b344935a8daed1ef59e1ed3",
        "deepnote_cell_type": "markdown",
        "id": "MzDsaSV1ugbF"
      },
      "source": [
        "**3. La función `filtrar_por_pepa(datos, tiene_pepas)` que dado un tipo de fruta y un booleano, retorne las frutas que tienen o no tienen pepas (según el valor de `tiene_pepas`).**\n",
        "    \n",
        "\n",
        "Por ejemplo, `filtrar_por_pepa(datos, True)` deberá retornar una lista con los diccionarios de: naranja, limon, frutilla y frambuesa."
      ]
    },
    {
      "cell_type": "code",
      "execution_count": 5,
      "metadata": {
        "cell_id": "4b929adaff504132824ce55493656849",
        "deepnote_cell_type": "code",
        "id": "_RjKNbkjugbF"
      },
      "outputs": [],
      "source": [
        "def filtrar_por_pepa(datos, tiene_pepas):\n",
        "    # Documentación Aquí\n",
        "    \"\"\"permite filtrar una lista de frutas, dejando sólo las que contienen o no pepas según \"tiene_pepas\"\n",
        "\n",
        "    Parametros\n",
        "    ----------\n",
        "    datos : list\n",
        "        lista que contiene diccionarios que representan frutas\n",
        "    tiene_pepas : bool\n",
        "        indica si deseo saber las frutas que contienen pepas o las que no contienen pepas\n",
        "\n",
        "    Return\n",
        "    -------\n",
        "    list\n",
        "        lista que contiene los diccionarios de las frutas que contienen o no pepas\n",
        "    \"\"\"\n",
        "    # Código Aquí\n",
        "    \n",
        "    #lista vacía para colocar los filtrados\n",
        "    filtrados = []\n",
        "    for fruta in datos:\n",
        "        if fruta[\"pepas\"]==tiene_pepas:\n",
        "            filtrados.append(fruta)\n",
        "        else:\n",
        "            pass\n",
        "            \n",
        "    \n",
        "    return filtrados"
      ]
    },
    {
      "cell_type": "markdown",
      "metadata": {
        "cell_id": "31929b2f72f84543b98fa78cbac46745",
        "deepnote_cell_type": "markdown",
        "id": "VOYbh0LUugbG"
      },
      "source": [
        "**4. La función `conteo_colores(datos)` que cree un diccionario que haga un conteo los colores de las frutas.**\n",
        "\n",
        "Para estos datos, la función debería retornar el siguiente diccionario: \n",
        "    \n",
        "```python\n",
        "{\"amarillo\": 3, \"naranjo\": 1, \"rojo\": 2}\n",
        "```"
      ]
    },
    {
      "cell_type": "code",
      "execution_count": 6,
      "metadata": {
        "cell_id": "9d58aa3406854329853f32316b6b0d07",
        "deepnote_cell_type": "code",
        "id": "aDWUpJuDugbG"
      },
      "outputs": [],
      "source": [
        "def conteo_colores(datos):\n",
        "    # Documentación Aquí\n",
        "    \"\"\"función que cuenta los colores existentes en la lista datos\n",
        "\n",
        "    Parameters\n",
        "    ----------\n",
        "    arg1 : list\n",
        "        lista que contiene diccionarios que representan frutas\n",
        "\n",
        "    Returns\n",
        "    -------\n",
        "    dictionary \n",
        "        diccionario que contiene los colores de las frutas dentro de datos y la \n",
        "        cantidad de frutas de cada color\n",
        "    \"\"\"\n",
        "    # Código Aquí\n",
        "\n",
        "    conteo = {}\n",
        "\n",
        "\n",
        "    if datos != []:\n",
        "\n",
        "      for fruta in datos:\n",
        "\n",
        "        try:\n",
        "          assert fruta[\"color\"] != \"\" and fruta[\"color\"] != None\n",
        "        except:\n",
        "          return \"Error: color de fruta vacío.\"\n",
        "\n",
        "        try:\n",
        "          assert fruta[\"color\"] == \"amarillo\" or fruta[\"color\"] == \"naranjo\" or fruta[\"color\"] == \"rojo\" or fruta[\"color\"] == \"verde\" or fruta[\"color\"] == \"morado\" or fruta[\"color\"] == \"azul\"\n",
        "        except:\n",
        "          return \"Error: color \" + fruta[\"color\"] + \" de fruta no conocido.\"\n",
        "\n",
        "        conteo[fruta[\"color\"]] = 0\n",
        "\n",
        "      for fruta in datos:\n",
        "        conteo[fruta[\"color\"]] += 1\n",
        "\n",
        "    else:\n",
        "      return \"Error: lista no contiene frutas.\"\n",
        "\n",
        "    return conteo"
      ]
    },
    {
      "cell_type": "code",
      "source": [
        "conteo_colores(datos)"
      ],
      "metadata": {
        "id": "U1tZB7a7wUa2",
        "colab": {
          "base_uri": "https://localhost:8080/"
        },
        "outputId": "7ebdd93b-0150-47d7-ac9d-26a37a2399bb"
      },
      "execution_count": 7,
      "outputs": [
        {
          "output_type": "execute_result",
          "data": {
            "text/plain": [
              "{'amarillo': 3, 'naranjo': 1, 'rojo': 2}"
            ]
          },
          "metadata": {},
          "execution_count": 7
        }
      ]
    },
    {
      "cell_type": "markdown",
      "metadata": {
        "cell_id": "680376561e244482aef7b577c1753252",
        "deepnote_cell_type": "markdown",
        "id": "ejWhsksmugbG"
      },
      "source": [
        "**5. La función `obtener_tipos` que devuelva una lista con los tipos únicos de fruta usando `set()`**.\n",
        "\n",
        "Por ejemplo, `obtener_tipos([limon, naranja, platano])` debería devolver `[\"citrica\", \"tropical\"]`"
      ]
    },
    {
      "cell_type": "code",
      "execution_count": 8,
      "metadata": {
        "cell_id": "0815c695d16d4e10afdc0de3e9e75edd",
        "deepnote_cell_type": "code",
        "id": "qq8b50MLugbG"
      },
      "outputs": [],
      "source": [
        "def obtener_tipos(datos):\n",
        "    # Documentación Aquí\n",
        "    \"\"\"esta función permite obtener una lista con los tipos de fruta (únicos) que hay en la lista de frutas\n",
        "        que se le entrega\n",
        "\n",
        "    Parametros\n",
        "    ----------\n",
        "    datos : list\n",
        "        lista que contiene diccionarios que representan frutas\n",
        "    \n",
        "    Return\n",
        "    -------\n",
        "    list\n",
        "        lista de strings que contiene los tipos únicos de frutas que hay en datos\n",
        "    \"\"\"\n",
        "    # Código Aquí\n",
        "    \n",
        "    tipos = []\n",
        "    for fruta in datos:\n",
        "        tipos.append(fruta[\"tipo\"])\n",
        "    \n",
        "    tipos = list(set(tipos))\n",
        "    \n",
        "    \n",
        "    return tipos"
      ]
    },
    {
      "cell_type": "markdown",
      "metadata": {
        "cell_id": "362d8b70b71b46eea57663b8cba43d9a",
        "deepnote_cell_type": "markdown",
        "id": "l7INkNEXugbH"
      },
      "source": [
        "**6. Genere tres test para cada una de las funciones de la pregunta 5 y así comprobar que funcionan correctamente.**\n",
        "\n",
        "Se <u>sugiere</u> que se apoyen en las siguientes directrices: \n",
        "- Test para tratar resultados nulos\n",
        "- Test para un subconjunto interesante cuyo resultado no sea nulo\n",
        "- Test para todos los datos"
      ]
    },
    {
      "cell_type": "markdown",
      "metadata": {
        "cell_id": "fae9a28ed4b24531910f59386004a311",
        "deepnote_cell_height": 52.390625,
        "deepnote_cell_type": "markdown",
        "id": "F2mt7aIusap8"
      },
      "source": [
        "**Ejecuten esta celda para comprobar su código:**"
      ]
    },
    {
      "cell_type": "code",
      "source": [
        "# Se crean casos:\n",
        "\n",
        "fruta = {\n",
        "    \"nombre\": \"\", \n",
        "    \"tipo\": \"\", \n",
        "    \"color\": \"\", \n",
        "    \"pepas\": None\n",
        "    }\n",
        "\n",
        "mora = {\"nombre\": \"mora\", \n",
        "        \"tipo\": \"bosque\", \n",
        "        \"color\": \"gris\", \n",
        "        \"pepas\": False\n",
        "        }\n",
        "\n",
        "datos1 = []\n",
        "datos1_ = [limon, naranja, platano, piña, frutilla, frambuesa, fruta]\n",
        "datos2 = [limon, naranja, platano, piña, frutilla, frambuesa, mora]"
      ],
      "metadata": {
        "id": "A5B08gj10qUr"
      },
      "execution_count": 9,
      "outputs": []
    },
    {
      "cell_type": "code",
      "execution_count": 10,
      "metadata": {
        "cell_id": "8ab5b3ce3d804416821fb8f1a880b6af",
        "deepnote_cell_type": "code",
        "deepnote_to_be_reexecuted": false,
        "execution_millis": 0,
        "execution_start": 1648863016644,
        "id": "c39b58c0",
        "source_hash": "af520603"
      },
      "outputs": [],
      "source": [
        "# ---------------------------------------------------------------------\n",
        "# test descripciones\n",
        "\n",
        "assert describir([]) == [] # test 1\n",
        "assert describir([limon, piña, frutilla])==[\"El limón es una fruta de tipo cítrica de color amarillo. Presenta pepas en su interior.\",\n",
        "                                             \"La piña es una fruta de tipo tropical de color amarillo. No presenta pepas en su interior.\",\n",
        "                                             \"La frutilla es una fruta de tipo bosque de color rojo. Presenta pepas en su interior.\"] # test 2\n",
        "assert describir(datos) ==  [\"El limón es una fruta de tipo cítrica de color amarillo. Presenta pepas en su interior.\",\n",
        " \"La naranja es una fruta de tipo cítrica de color naranjo. Presenta pepas en su interior.\",\n",
        " \"El plátano es una fruta de tipo tropical de color amarillo. No presenta pepas en su interior.\",\n",
        " \"La piña es una fruta de tipo tropical de color amarillo. No presenta pepas en su interior.\",\n",
        " \"La frutilla es una fruta de tipo bosque de color rojo. Presenta pepas en su interior.\",\n",
        " \"La frambuesa es una fruta de tipo bosque de color rojo. Presenta pepas en su interior.\"] # test 3\n",
        "\n",
        "# ---------------------------------------------------------------------\n",
        "# test filtro\n",
        "\n",
        "assert filtrar_por_pepa([],True) == [] # test 1\n",
        "assert filtrar_por_pepa([],False) == [] # test 1\n",
        "assert filtrar_por_pepa([limon, naranja, frutilla], False) == [] # test 2 \n",
        "assert filtrar_por_pepa([piña, limon, naranja], True) == [limon, naranja]  # test 2 \n",
        "assert filtrar_por_pepa(datos, True) == [limon, naranja, frutilla, frambuesa] # test 3\n",
        "assert filtrar_por_pepa(datos, False) == [platano, piña] # test 3\n",
        "\n",
        "# ---------------------------------------------------------------------\n",
        "# test conteo\n",
        "\n",
        "assert conteo_colores(datos1) == \"Error: lista no contiene frutas.\" # test 1.0\n",
        "assert conteo_colores(datos1_) == \"Error: color de fruta vacío.\" # test 1.1\n",
        "assert conteo_colores(datos2) == \"Error: color gris de fruta no conocido.\" # test 2\n",
        "assert conteo_colores(datos) == {'amarillo': 3, 'naranjo': 1, 'rojo': 2} # test 3\n",
        "\n",
        "# ---------------------------------------------------------------------\n",
        "# test tipos\n",
        "\n",
        "assert obtener_tipos([]) == [] # test 1\n",
        "assert obtener_tipos([limon, naranja]) == [\"cítrica\"] # test 2\n",
        "assert obtener_tipos([limon, piña, frutilla]) == list({\"cítrica\", \"tropical\", \"bosque\"}) # test 2\n",
        "assert obtener_tipos(datos) == list({\"cítrica\", \"tropical\", \"bosque\"}) # test 3"
      ]
    },
    {
      "cell_type": "markdown",
      "metadata": {
        "cell_id": "745ed4bbc60044f182fbc3c4caec5c84",
        "deepnote_cell_type": "markdown",
        "id": "Q4sh4130ugbH"
      },
      "source": [
        "**7. Programe nuevamente las funciones `describir`, `filtrar_por_pepa` y `obtener_tipos`, pero esta vez usando *comprehensions*.**\n",
        "\n",
        "*Hint: Pueden reutilizar la documentación escrita en la pregunta 5*"
      ]
    },
    {
      "cell_type": "code",
      "execution_count": 11,
      "metadata": {
        "cell_id": "18b1fa6908a3456483d9bc7f87788b8d",
        "deepnote_cell_type": "code",
        "id": "nkABJ_whugbH"
      },
      "outputs": [],
      "source": [
        "def obtener_descripciones_v2(datos):\n",
        "    # Documentación Aquí\n",
        "    \"\"\"esta función me entrega la descripción de una lista de frutas, considerando los datos en el \n",
        "        diccionario de cada fruta\n",
        "\n",
        "    Parametros\n",
        "    ----------\n",
        "    datos : list\n",
        "        lista que contiene diccionarios que representan frutas\n",
        "\n",
        "    Return\n",
        "    -------\n",
        "    list\n",
        "        lista que contiene las descripciones de cada fruta en la lista \"datos\"\n",
        "    \"\"\"\n",
        "    # Código Aquí\n",
        "    descripciones = [generar_descripcion(fruta) for fruta in datos]\n",
        "    return descripciones\n",
        "\n",
        "def filtrar_por_pepa_v2(datos, tiene_pepas):\n",
        "    # Documentación Aquí\n",
        "    \"\"\"permite filtrar una lista de frutas, dejando sólo las que contienen o no pepas según \"tiene_pepas\"\n",
        "\n",
        "    Parametros\n",
        "    ----------\n",
        "    datos : list\n",
        "        lista que contiene diccionarios que representan frutas\n",
        "    tiene_pepas : bool\n",
        "        indica si deseo saber las frutas que contienen pepas o las que no contienen pepas\n",
        "\n",
        "    Return\n",
        "    -------\n",
        "    list\n",
        "        lista que contiene los diccionarios de las frutas que contienen o no pepas\n",
        "    \"\"\"\n",
        "    # Código Aquí\n",
        "    filtrados = [fruta for fruta in datos if fruta[\"pepas\"]==tiene_pepas]\n",
        "    return filtrados\n",
        "\n",
        "def obtener_tipos_v2(datos):\n",
        "    # Documentación Aquí\n",
        "    \"\"\"esta función permite obtener una lista con los tipos de fruta (únicos) que hay en la lista de frutas\n",
        "        que se le entrega\n",
        "\n",
        "    Parametros\n",
        "    ----------\n",
        "    datos : list\n",
        "        lista que contiene diccionarios que representan frutas\n",
        "    \n",
        "    Return\n",
        "    -------\n",
        "    list\n",
        "        lista de strings que contiene los tipos únicos de frutas que hay en datos\n",
        "    \"\"\"\n",
        "    # Código Aquí\n",
        "    tipos = list({fruta[\"tipo\"] for fruta in datos})\n",
        "    return tipos"
      ]
    },
    {
      "cell_type": "markdown",
      "metadata": {
        "cell_id": "70857dcf13464ee2969cc1ce546cce0c",
        "deepnote_cell_height": 723.59375,
        "deepnote_cell_type": "markdown",
        "id": "492b941a"
      },
      "source": [
        "## Parte 2: Electrodomésticos \n",
        "\n",
        "En esta parte se solicitarán un par de clases que permitirá jugar con la Programación Orientada a Objetos.\n",
        "\n",
        "<div align='center'>\n",
        "<img src='https://upload.wikimedia.org/wikipedia/commons/6/67/Breville.jpg' width=400/>\n",
        "</div>\n",
        "\n",
        "\n",
        "### [0.5] Clase Electrodoméstico\n",
        "\n",
        "Defina la clase `Electrodomestico` que implemente:\n",
        "\n",
        "\n",
        "- Un constructor que defina un atributo de instancia llamado `enchufado` que almacene valores booleanos. \n",
        "- Un método llamado `esta_enchufado(self)` que levante una excepción `Exception` y que termine con la ejecución del programa cuando el atributo enchufado sea `False`. La excepción debe levantar el mensaje `'Alerta ⚠️: El electrodoméstico no está enchufado'`\n",
        "- Un método llamado `enchufar(self)` que cambia el estado de `enchufado` a True.\n",
        "\n"
      ]
    },
    {
      "cell_type": "code",
      "execution_count": 12,
      "metadata": {
        "cell_id": "3c65e471110f49fe9f5b54287ce74c9b",
        "deepnote_cell_type": "code",
        "deepnote_to_be_reexecuted": false,
        "execution_millis": 21,
        "execution_start": 1648863016745,
        "id": "9f8aa475",
        "source_hash": "43ca10f0"
      },
      "outputs": [],
      "source": [
        "class Electrodomestico:\n",
        "    \n",
        "    def __init__(self):\n",
        "      # Código Aquí\n",
        "      self.enchufado = False\n",
        "        \n",
        "    def esta_enchufado(self):\n",
        "      # Código Aquí\n",
        "      \n",
        "      if self.enchufado == False:\n",
        "        raise Exception(\n",
        "            'Alerta ⚠️: El electrodoméstico no está enchufado'\n",
        "            )\n",
        "\n",
        "    def enchufar(self):\n",
        "      # Código Aquí\n",
        "      self.enchufado = True"
      ]
    },
    {
      "cell_type": "markdown",
      "metadata": {
        "cell_id": "56f3ae20d61d4fcab7763a14531ecbfd",
        "deepnote_cell_height": 1059.59375,
        "deepnote_cell_type": "markdown",
        "id": "d7d477b5"
      },
      "source": [
        "### Clase Jugera [1.5 puntos] \n",
        "\n",
        "\n",
        "<div align='center'>\n",
        "<img src='https://upload.wikimedia.org/wikipedia/commons/b/bb/Liquadora_%28parts%29.JPG' width=400/>\n",
        "</div>\n",
        "\n",
        "\n",
        "Implemente la clase `Jugera` que extiende `Electrodomestico` y que implemente: \n",
        "\n",
        "\n",
        "- Un constructor que tenga una lista de ingredientes frutales (llamado `bandeja`).\n",
        "\n",
        "\n",
        "- Un método llamado `agregar_ingrediente(self, nueva_fruta)` que dado una fruta, agregue esa fruta a la `bandeja`.\n",
        "\n",
        "- Un método llamado `listar_ingredientes(self)` que imprima (con `print`) los ingredientes actuales de la `bandeja` de la siguiente forma: \n",
        "\n",
        "    `Ingredientes en la bandeja: frutilla, frambuesa, piña.`\n",
        "\n",
        "De lo contrario si no tiene ingredientes imprima:\n",
        "\n",
        "    `Bandeja vacía`\n",
        "\n",
        "\n",
        "**Hint:** Investigar el método `join` de un string para generar el string con los nombres de las frutas.\n",
        "    \n",
        "    \n",
        "    \n",
        "\n",
        "- Un método llamado `preparar_jugo(self)` que: \n",
        "    - Primero verifique que el electrodoméstico esté enchufado usando `self.esta_enchufado()`.\n",
        "    - Verifique que haya por lo menos un ingrediente en la `bandeja`. En el caso que no haya, levantar una excepción con contenido `'Error ❌: La bandeja no tiene ingredientes.'`\n",
        "    - Verifique que ninguna fruta tenga pepas. En el caso que haya alguna, imprimir (con `print`) el mensaje de advertencia `'Alerta ⚠️: El jugo puede contener restos de pepas.'`. Puede usar la función definida en la sección anterior.\n",
        "    - Genere un mensaje indicado `Jugo de {nombres de las frutas separadas por una ,} listo. 🏖️🥤 Que lo disfrutes!!! 🥤🏖️. ` (Hint: Usar nuevamente `join`).\n",
        "    - Vacie la `bandeja` (es decir, eliminar todas las frutas de la bandeja).\n",
        "    - Retorne el mensaje generado.\n"
      ]
    },
    {
      "cell_type": "code",
      "execution_count": 13,
      "metadata": {
        "cell_id": "9f42c023a75b4b16b24e5b09d7276e88",
        "deepnote_cell_type": "code",
        "deepnote_to_be_reexecuted": false,
        "execution_millis": 0,
        "execution_start": 1648863366156,
        "id": "d9db037b",
        "source_hash": "fe592b51"
      },
      "outputs": [],
      "source": [
        "class Jugera(Electrodomestico):\n",
        "    \n",
        "    def __init__(self):\n",
        "      super().__init__()\n",
        "      # Código Aquí\n",
        "      self._bandeja = []\n",
        "        \n",
        "    def agregar_ingrediente(self, nueva_fruta):\n",
        "        # Código Aquí\n",
        "        self._bandeja.append(nueva_fruta)\n",
        "     \n",
        "    def listar_ingredientes(self):\n",
        "        # Código Aquí\n",
        "        if self._bandeja != []:\n",
        "          ingredientes = []\n",
        "          for fruta in self._bandeja:\n",
        "            ingredientes.append(fruta[\"nombre\"])\n",
        "          print(f\"Ingredientes en la bandeja: {', '.join(ingredientes)}\")\n",
        "        else:\n",
        "          print(\"Bandeja vacía\")\n",
        "    \n",
        "    def preparar_jugo(self):\n",
        "        # Código Aquí\n",
        "        self.esta_enchufado()\n",
        "\n",
        "        ingredientes = list({fruta[\"nombre\"] for fruta in self._bandeja})\n",
        "\n",
        "        if self._bandeja != []:\n",
        "          print(f\"Ingredientes en la bandeja: {', '.join(ingredientes)}\")\n",
        "        else:\n",
        "            raise ValueError(\n",
        "              'Error ❌: La bandeja no tiene ingredientes.'\n",
        "            )\n",
        "        if filtrar_por_pepa(self._bandeja, True) != []:\n",
        "          print(\"Alerta ⚠️: El jugo puede contener restos de pepas.\")\n",
        "        \n",
        "        mensaje = f\"Jugo de {', '.join(ingredientes)} listo. 🏖️🥤 Que lo disfrutes!!! 🥤🏖️\"\n",
        "\n",
        "        self._bandeja = []\n",
        "\n",
        "        return mensaje"
      ]
    },
    {
      "cell_type": "markdown",
      "metadata": {
        "cell_id": "73d709b368c84bc6a3c5336a6f549eac",
        "deepnote_cell_height": 122.796875,
        "deepnote_cell_type": "markdown",
        "id": "6889015a"
      },
      "source": [
        "### Interacciones\n",
        "\n",
        "Las siguientes celdas les permitirán probar las interacciones de esta clase.\n",
        "La ejecución es solo referencial y no lleva puntaje. La idea es que la utilice como guía para desarrollar la clase."
      ]
    },
    {
      "cell_type": "code",
      "execution_count": 14,
      "metadata": {
        "cell_id": "5c47280064504e948d21f495ca2f8053",
        "deepnote_cell_type": "code",
        "deepnote_to_be_reexecuted": false,
        "execution_millis": 8,
        "execution_start": 1648863369348,
        "id": "913af660",
        "source_hash": "239b8903",
        "colab": {
          "base_uri": "https://localhost:8080/"
        },
        "outputId": "939e5dba-4aa8-4958-c30d-4cc5ca354ada"
      },
      "outputs": [
        {
          "output_type": "stream",
          "name": "stdout",
          "text": [
            "Bandeja vacía\n"
          ]
        }
      ],
      "source": [
        "jugera = Jugera()\n",
        "\n",
        "# Como no tenemos ingredientes, listar_ingredientes deberá imprimir 'Bandeja vacía'\n",
        "jugera.listar_ingredientes()"
      ]
    },
    {
      "cell_type": "code",
      "execution_count": 15,
      "metadata": {
        "cell_id": "7cfdd145bbff42d4a3c66c50d2559120",
        "deepnote_cell_type": "code",
        "deepnote_to_be_reexecuted": false,
        "execution_millis": 20,
        "execution_start": 1648863371573,
        "id": "9d06bf3e",
        "source_hash": "77689b24",
        "colab": {
          "base_uri": "https://localhost:8080/",
          "height": 329
        },
        "outputId": "08148a2c-07e5-4a00-b364-66477ebf2139"
      },
      "outputs": [
        {
          "output_type": "error",
          "ename": "Exception",
          "evalue": "ignored",
          "traceback": [
            "\u001b[0;31m---------------------------------------------------------------------------\u001b[0m",
            "\u001b[0;31mException\u001b[0m                                 Traceback (most recent call last)",
            "\u001b[0;32m<ipython-input-15-12a82fa67e1d>\u001b[0m in \u001b[0;36m<cell line: 2>\u001b[0;34m()\u001b[0m\n\u001b[1;32m      1\u001b[0m \u001b[0;31m# Esta celda debería levantar una excepcion indicando que no está enchufada la jugera.\u001b[0m\u001b[0;34m\u001b[0m\u001b[0;34m\u001b[0m\u001b[0m\n\u001b[0;32m----> 2\u001b[0;31m \u001b[0mjugera\u001b[0m\u001b[0;34m.\u001b[0m\u001b[0mpreparar_jugo\u001b[0m\u001b[0;34m(\u001b[0m\u001b[0;34m)\u001b[0m\u001b[0;34m\u001b[0m\u001b[0;34m\u001b[0m\u001b[0m\n\u001b[0m",
            "\u001b[0;32m<ipython-input-13-359aea9e858b>\u001b[0m in \u001b[0;36mpreparar_jugo\u001b[0;34m(self)\u001b[0m\n\u001b[1;32m     22\u001b[0m     \u001b[0;32mdef\u001b[0m \u001b[0mpreparar_jugo\u001b[0m\u001b[0;34m(\u001b[0m\u001b[0mself\u001b[0m\u001b[0;34m)\u001b[0m\u001b[0;34m:\u001b[0m\u001b[0;34m\u001b[0m\u001b[0;34m\u001b[0m\u001b[0m\n\u001b[1;32m     23\u001b[0m         \u001b[0;31m# Código Aquí\u001b[0m\u001b[0;34m\u001b[0m\u001b[0;34m\u001b[0m\u001b[0m\n\u001b[0;32m---> 24\u001b[0;31m         \u001b[0mself\u001b[0m\u001b[0;34m.\u001b[0m\u001b[0mesta_enchufado\u001b[0m\u001b[0;34m(\u001b[0m\u001b[0;34m)\u001b[0m\u001b[0;34m\u001b[0m\u001b[0;34m\u001b[0m\u001b[0m\n\u001b[0m\u001b[1;32m     25\u001b[0m \u001b[0;34m\u001b[0m\u001b[0m\n\u001b[1;32m     26\u001b[0m         \u001b[0mingredientes\u001b[0m \u001b[0;34m=\u001b[0m \u001b[0mlist\u001b[0m\u001b[0;34m(\u001b[0m\u001b[0;34m{\u001b[0m\u001b[0mfruta\u001b[0m\u001b[0;34m[\u001b[0m\u001b[0;34m\"nombre\"\u001b[0m\u001b[0;34m]\u001b[0m \u001b[0;32mfor\u001b[0m \u001b[0mfruta\u001b[0m \u001b[0;32min\u001b[0m \u001b[0mself\u001b[0m\u001b[0;34m.\u001b[0m\u001b[0m_bandeja\u001b[0m\u001b[0;34m}\u001b[0m\u001b[0;34m)\u001b[0m\u001b[0;34m\u001b[0m\u001b[0;34m\u001b[0m\u001b[0m\n",
            "\u001b[0;32m<ipython-input-12-f57d66f561f8>\u001b[0m in \u001b[0;36mesta_enchufado\u001b[0;34m(self)\u001b[0m\n\u001b[1;32m      9\u001b[0m \u001b[0;34m\u001b[0m\u001b[0m\n\u001b[1;32m     10\u001b[0m       \u001b[0;32mif\u001b[0m \u001b[0mself\u001b[0m\u001b[0;34m.\u001b[0m\u001b[0menchufado\u001b[0m \u001b[0;34m==\u001b[0m \u001b[0;32mFalse\u001b[0m\u001b[0;34m:\u001b[0m\u001b[0;34m\u001b[0m\u001b[0;34m\u001b[0m\u001b[0m\n\u001b[0;32m---> 11\u001b[0;31m         raise Exception(\n\u001b[0m\u001b[1;32m     12\u001b[0m             \u001b[0;34m'Alerta ⚠️: El electrodoméstico no está enchufado'\u001b[0m\u001b[0;34m\u001b[0m\u001b[0;34m\u001b[0m\u001b[0m\n\u001b[1;32m     13\u001b[0m             )\n",
            "\u001b[0;31mException\u001b[0m: Alerta ⚠️: El electrodoméstico no está enchufado"
          ]
        }
      ],
      "source": [
        "# Esta celda debería levantar una excepcion indicando que no está enchufada la jugera.\n",
        "jugera.preparar_jugo()"
      ]
    },
    {
      "cell_type": "code",
      "execution_count": 16,
      "metadata": {
        "cell_id": "6a19f22b8c684cad81373a1a3d0fb64c",
        "deepnote_cell_type": "code",
        "deepnote_to_be_reexecuted": false,
        "execution_millis": 0,
        "execution_start": 1648863372430,
        "id": "3ad38f18",
        "source_hash": "36a2ab49"
      },
      "outputs": [],
      "source": [
        "# Enchufamos el electrodoméstico\n",
        "jugera.enchufar()"
      ]
    },
    {
      "cell_type": "code",
      "execution_count": 17,
      "metadata": {
        "cell_id": "c6d5077fdb3d4025b877769428edc14a",
        "deepnote_cell_type": "code",
        "deepnote_to_be_reexecuted": false,
        "execution_millis": 173,
        "execution_start": 1648863376136,
        "id": "48009872",
        "scrolled": true,
        "source_hash": "27514b2c",
        "colab": {
          "base_uri": "https://localhost:8080/",
          "height": 305
        },
        "outputId": "86eeaf47-7a67-4e1a-8229-5ff2a4988dee"
      },
      "outputs": [
        {
          "output_type": "error",
          "ename": "ValueError",
          "evalue": "ignored",
          "traceback": [
            "\u001b[0;31m---------------------------------------------------------------------------\u001b[0m",
            "\u001b[0;31mValueError\u001b[0m                                Traceback (most recent call last)",
            "\u001b[0;32m<ipython-input-17-763feb2b9970>\u001b[0m in \u001b[0;36m<cell line: 2>\u001b[0;34m()\u001b[0m\n\u001b[1;32m      1\u001b[0m \u001b[0;31m# Esta celda debería levantar ina excepción informandoles que la bandeja no tiene ingredientes.\u001b[0m\u001b[0;34m\u001b[0m\u001b[0;34m\u001b[0m\u001b[0m\n\u001b[0;32m----> 2\u001b[0;31m \u001b[0mjugera\u001b[0m\u001b[0;34m.\u001b[0m\u001b[0mpreparar_jugo\u001b[0m\u001b[0;34m(\u001b[0m\u001b[0;34m)\u001b[0m\u001b[0;34m\u001b[0m\u001b[0;34m\u001b[0m\u001b[0m\n\u001b[0m",
            "\u001b[0;32m<ipython-input-13-359aea9e858b>\u001b[0m in \u001b[0;36mpreparar_jugo\u001b[0;34m(self)\u001b[0m\n\u001b[1;32m     29\u001b[0m           \u001b[0mprint\u001b[0m\u001b[0;34m(\u001b[0m\u001b[0;34mf\"Ingredientes en la bandeja: {', '.join(ingredientes)}\"\u001b[0m\u001b[0;34m)\u001b[0m\u001b[0;34m\u001b[0m\u001b[0;34m\u001b[0m\u001b[0m\n\u001b[1;32m     30\u001b[0m         \u001b[0;32melse\u001b[0m\u001b[0;34m:\u001b[0m\u001b[0;34m\u001b[0m\u001b[0;34m\u001b[0m\u001b[0m\n\u001b[0;32m---> 31\u001b[0;31m             raise ValueError(\n\u001b[0m\u001b[1;32m     32\u001b[0m               \u001b[0;34m'Error ❌: La bandeja no tiene ingredientes.'\u001b[0m\u001b[0;34m\u001b[0m\u001b[0;34m\u001b[0m\u001b[0m\n\u001b[1;32m     33\u001b[0m             )\n",
            "\u001b[0;31mValueError\u001b[0m: Error ❌: La bandeja no tiene ingredientes."
          ]
        }
      ],
      "source": [
        "# Esta celda debería levantar ina excepción informandoles que la bandeja no tiene ingredientes.\n",
        "jugera.preparar_jugo()"
      ]
    },
    {
      "cell_type": "code",
      "execution_count": 18,
      "metadata": {
        "cell_id": "c29aa5b7dc3745ff90ddadee72e24b3f",
        "deepnote_cell_type": "code",
        "deepnote_to_be_reexecuted": false,
        "execution_millis": 6,
        "execution_start": 1648863377052,
        "id": "4873e0bf",
        "source_hash": "a8f0979e",
        "colab": {
          "base_uri": "https://localhost:8080/"
        },
        "outputId": "985ac408-21ad-4c7e-dfad-6f6b013a984d"
      },
      "outputs": [
        {
          "output_type": "stream",
          "name": "stdout",
          "text": [
            "Ingredientes en la bandeja: naranja, plátano\n"
          ]
        }
      ],
      "source": [
        "# Agregamos algunos ingredientes\n",
        "jugera.agregar_ingrediente(naranja)\n",
        "jugera.agregar_ingrediente(platano)\n",
        "\n",
        "# Y los listamos (debería imprimir: 'Ingredientes en la bandeja: naranja, plátano')\n",
        "jugera.listar_ingredientes()"
      ]
    },
    {
      "cell_type": "code",
      "execution_count": 19,
      "metadata": {
        "cell_id": "d1890bc44c104a85a090ee3e997e1df9",
        "deepnote_cell_type": "code",
        "deepnote_to_be_reexecuted": false,
        "execution_millis": 5,
        "execution_start": 1648863380098,
        "id": "ff555151",
        "source_hash": "7086345e",
        "colab": {
          "base_uri": "https://localhost:8080/",
          "height": 70
        },
        "outputId": "4c48d0d1-52a8-4122-8e6b-5bfe6b291736"
      },
      "outputs": [
        {
          "output_type": "stream",
          "name": "stdout",
          "text": [
            "Ingredientes en la bandeja: plátano, naranja\n",
            "Alerta ⚠️: El jugo puede contener restos de pepas.\n"
          ]
        },
        {
          "output_type": "execute_result",
          "data": {
            "text/plain": [
              "'Jugo de plátano, naranja listo. 🏖️🥤 Que lo disfrutes!!! 🥤🏖️'"
            ],
            "application/vnd.google.colaboratory.intrinsic+json": {
              "type": "string"
            }
          },
          "metadata": {},
          "execution_count": 19
        }
      ],
      "source": [
        "# Preparamos el jugo: 'Jugo de naranja, plátano listo. 🏖️🥤 Que lo disfrutes!!! 🥤🏖️.'\n",
        "jugera.preparar_jugo()"
      ]
    },
    {
      "cell_type": "code",
      "execution_count": 20,
      "metadata": {
        "cell_id": "323edee62a1d432d9ca2eadaa8a9f2c4",
        "deepnote_cell_type": "code",
        "deepnote_to_be_reexecuted": false,
        "execution_millis": 0,
        "execution_start": 1648863382273,
        "id": "bbc532b2",
        "source_hash": "6a032d0a",
        "colab": {
          "base_uri": "https://localhost:8080/"
        },
        "outputId": "bf498e79-7b31-41f2-e236-1d284524d0ab"
      },
      "outputs": [
        {
          "output_type": "stream",
          "name": "stdout",
          "text": [
            "Bandeja vacía\n"
          ]
        }
      ],
      "source": [
        "# Una vez preparado el jugo, debería vaciarse la bandeja (imprimir Bandeja vacía)\n",
        "jugera.listar_ingredientes()"
      ]
    },
    {
      "cell_type": "markdown",
      "metadata": {
        "cell_id": "aa7c6610855d48bb85848283fe9fcca0",
        "deepnote_cell_height": 297.1875,
        "deepnote_cell_type": "markdown",
        "id": "972dbcac"
      },
      "source": [
        "### Clase Jugera + Properties  [1.0]\n",
        "\n",
        "Implementar `bandeja` usando una `property` que permita setear una `nueva_bandeja` como `bandeja` según las siguientes condiciones:\n",
        "\n",
        "\n",
        "- Compruebe que `nueva_bandeja` sea una lista. En caso contrario, levante una excepción.\n",
        "- No permita agregar más de 3 ingredientes a la bandeja a la vez. Si se entregan más de 3 frutas, se levante una excepción.\n",
        "- Se compruebe que todos los elementos de la lista sean frutas. Para esto, por cada fruta compruebe que:\n",
        "    1. La fruta sea diccionario.\n",
        "    2. El diccionario entregado tenga las llaves `nombre`, `tipo`, `color` y `pepas`."
      ]
    },
    {
      "cell_type": "code",
      "execution_count": 21,
      "metadata": {
        "cell_id": "806570623e07479eb9eb68009e97af06",
        "deepnote_cell_type": "code",
        "deepnote_to_be_reexecuted": false,
        "execution_millis": 5,
        "execution_start": 1648863394051,
        "id": "X3RXI9nisGfa",
        "source_hash": "68977855"
      },
      "outputs": [],
      "source": [
        "class Jugera(Electrodomestico):\n",
        "    \n",
        "    def __init__(self):\n",
        "        # Código Aquí\n",
        "        super().__init__()\n",
        "        self._bandeja = []\n",
        "\n",
        "    @property\n",
        "    def bandeja(self):\n",
        "        # Código Aquí\n",
        "        return self._bandeja\n",
        "        \n",
        "    @bandeja.setter\n",
        "    def bandeja(self, nueva_bandeja = []):\n",
        "        # Código Aquí\n",
        "        if not isinstance(nueva_bandeja, list):\n",
        "          raise ValueError(\n",
        "              'Error ❌: Nueva bandeja no es una bandeja.'\n",
        "              )\n",
        "        if len(nueva_bandeja) > 3:\n",
        "          raise ValueError(\n",
        "              'Error ❌: La bandeja tiene demasiados ingredientes.'\n",
        "              )\n",
        "        \n",
        "        for i, fruta in enumerate(nueva_bandeja):\n",
        "          ordinales = [\"primer\",\"segundo\",\"tercer\"]\n",
        "          if not isinstance(fruta, dict):\n",
        "            raise ValueError(\n",
        "                'Error ❌: El ' + ordinales[i] + ' objeto de la bandeja no es una fruta.'\n",
        "                )\n",
        "          propiedades_frutales = list(fruta.keys())\n",
        "          while len(propiedades_frutales) < 5:\n",
        "            propiedades_frutales.append(\"\") \n",
        "          bools = [i==j for i, j in zip(propiedades_frutales, [\"nombre\", \"tipo\", \"color\", \"pepas\"])]\n",
        "          ordinales = [\"primera\",\"segunda\",\"tercera\"]\n",
        "          if bools != [True]*4:\n",
        "            idxs = []\n",
        "            j = 0\n",
        "            while j < len(bools):\n",
        "              if bools[j] == False:\n",
        "                idxs.append(j)\n",
        "              j += 1\n",
        "            propiedades_frutales = [\"nombre\", \"tipo\", \"color\", \"pepas\"]\n",
        "            if len(idxs) > 1:\n",
        "              propiedades_frutales = [propiedades_frutales[idx] for idx in idxs]\n",
        "              propiedades_frutales = ['\"' + fruta_string + '\"' for fruta_string in propiedades_frutales]\n",
        "              atributos_frutales = ', '.join(propiedades_frutales)\n",
        "              atributos_frutales = atributos_frutales[:-(len(propiedades_frutales[-1])+2)]\n",
        "              atributos_frutales = atributos_frutales + \" y \" + propiedades_frutales[-1]\n",
        "              raise ValueError(\n",
        "                'Error ❌: Los atributos ' + atributos_frutales + ' de la ' + ordinales[i] + ' fruta están desordenados o no están.'\n",
        "                )  \n",
        "        self._bandeja = nueva_bandeja\n",
        "\n",
        "    def agregar_ingrediente(self, nueva_fruta):\n",
        "        # Código Aquí\n",
        "        self._bandeja.append(nueva_fruta)\n",
        "     \n",
        "    def listar_ingredientes(self):\n",
        "        # Código Aquí\n",
        "        if self._bandeja != []:\n",
        "          ingredientes = []\n",
        "          for fruta in self._bandeja:\n",
        "            ingredientes.append(fruta[\"nombre\"])\n",
        "          frutas = ', '.join(ingredientes)\n",
        "          frutas = frutas[:-(len(ingredientes[-1])+2)]\n",
        "          frutas = frutas + \" y \" + ingredientes[-1]\n",
        "          print(f\"Ingredientes en la bandeja: {frutas}\")\n",
        "        else:\n",
        "          print(\"Bandeja vacía\")\n",
        "    \n",
        "    def preparar_jugo(self):\n",
        "        # Código Aquí\n",
        "        self.esta_enchufado()\n",
        "\n",
        "        ingredientes = list({fruta[\"nombre\"] for fruta in self._bandeja})\n",
        "\n",
        "        if self._bandeja != []:\n",
        "          frutas = ', '.join(ingredientes)\n",
        "          frutas = frutas[:-(len(ingredientes[-1])+2)]\n",
        "          frutas = frutas + \" y \" + ingredientes[-1]\n",
        "          print(f\"Ingredientes en la bandeja: {frutas}\")\n",
        "        else:\n",
        "            raise ValueError(\n",
        "              'Error ❌: La bandeja no tiene ingredientes.'\n",
        "            )\n",
        "        if filtrar_por_pepa(self._bandeja, True) != []:\n",
        "          print(\"Alerta ⚠️: El jugo puede contener restos de pepas.\")\n",
        "        frutas = ', '.join(ingredientes)\n",
        "        frutas = frutas[:-(len(ingredientes[-1])+2)]\n",
        "        frutas = frutas + \" y \" + ingredientes[-1]\n",
        "        mensaje = \"Jugo de \"+frutas+\" listo. 🏖️🥤 Que lo disfrutes!!! 🥤🏖️\"\n",
        "\n",
        "        self._bandeja = []\n",
        "\n",
        "        return mensaje"
      ]
    },
    {
      "cell_type": "markdown",
      "metadata": {
        "cell_id": "7002ed07ad6a435288ecbe4513d9d10e",
        "deepnote_cell_height": 122.796875,
        "deepnote_cell_type": "markdown",
        "tags": [],
        "id": "gIO5qNFAugbN"
      },
      "source": [
        "### Interacciones\n",
        "\n",
        "Las siguientes celdas les permitirán probar las interacciones de esta clase.\n",
        "La ejecución es solo referencial y no lleva puntaje. La idea es que la utilice como guía para desarrollar la clase."
      ]
    },
    {
      "cell_type": "code",
      "execution_count": 22,
      "metadata": {
        "cell_id": "61fb1b1ad18b4e94a88a959780730c58",
        "deepnote_cell_type": "code",
        "deepnote_to_be_reexecuted": false,
        "execution_millis": 4,
        "execution_start": 1648863396777,
        "source_hash": "d7617c26",
        "tags": [],
        "id": "5XcNYIs-ugbN",
        "colab": {
          "base_uri": "https://localhost:8080/"
        },
        "outputId": "2465ab60-be68-42f5-8ccd-a4d38dce3970"
      },
      "outputs": [
        {
          "output_type": "stream",
          "name": "stdout",
          "text": [
            "Bandeja vacía\n"
          ]
        }
      ],
      "source": [
        "jugera_2 = Jugera()\n",
        "\n",
        "jugera_2.listar_ingredientes()"
      ]
    },
    {
      "cell_type": "code",
      "execution_count": 23,
      "metadata": {
        "cell_id": "4089968aee614a0298c852722ac6b56c",
        "deepnote_cell_type": "code",
        "deepnote_to_be_reexecuted": false,
        "execution_millis": 18,
        "execution_start": 1648863398145,
        "source_hash": "480070d3",
        "tags": [],
        "id": "Nb2S7ML_ugbN",
        "colab": {
          "base_uri": "https://localhost:8080/",
          "height": 312
        },
        "outputId": "3a46ee73-bf2a-403f-d9ce-d1dc7ed5b9bc"
      },
      "outputs": [
        {
          "output_type": "error",
          "ename": "Exception",
          "evalue": "ignored",
          "traceback": [
            "\u001b[0;31m---------------------------------------------------------------------------\u001b[0m",
            "\u001b[0;31mException\u001b[0m                                 Traceback (most recent call last)",
            "\u001b[0;32m<ipython-input-23-b7b38da5dd79>\u001b[0m in \u001b[0;36m<cell line: 1>\u001b[0;34m()\u001b[0m\n\u001b[0;32m----> 1\u001b[0;31m \u001b[0mjugera_2\u001b[0m\u001b[0;34m.\u001b[0m\u001b[0mpreparar_jugo\u001b[0m\u001b[0;34m(\u001b[0m\u001b[0;34m)\u001b[0m\u001b[0;34m\u001b[0m\u001b[0;34m\u001b[0m\u001b[0m\n\u001b[0m",
            "\u001b[0;32m<ipython-input-21-a4c18a3915b1>\u001b[0m in \u001b[0;36mpreparar_jugo\u001b[0;34m(self)\u001b[0m\n\u001b[1;32m     72\u001b[0m     \u001b[0;32mdef\u001b[0m \u001b[0mpreparar_jugo\u001b[0m\u001b[0;34m(\u001b[0m\u001b[0mself\u001b[0m\u001b[0;34m)\u001b[0m\u001b[0;34m:\u001b[0m\u001b[0;34m\u001b[0m\u001b[0;34m\u001b[0m\u001b[0m\n\u001b[1;32m     73\u001b[0m         \u001b[0;31m# Código Aquí\u001b[0m\u001b[0;34m\u001b[0m\u001b[0;34m\u001b[0m\u001b[0m\n\u001b[0;32m---> 74\u001b[0;31m         \u001b[0mself\u001b[0m\u001b[0;34m.\u001b[0m\u001b[0mesta_enchufado\u001b[0m\u001b[0;34m(\u001b[0m\u001b[0;34m)\u001b[0m\u001b[0;34m\u001b[0m\u001b[0;34m\u001b[0m\u001b[0m\n\u001b[0m\u001b[1;32m     75\u001b[0m \u001b[0;34m\u001b[0m\u001b[0m\n\u001b[1;32m     76\u001b[0m         \u001b[0mingredientes\u001b[0m \u001b[0;34m=\u001b[0m \u001b[0mlist\u001b[0m\u001b[0;34m(\u001b[0m\u001b[0;34m{\u001b[0m\u001b[0mfruta\u001b[0m\u001b[0;34m[\u001b[0m\u001b[0;34m\"nombre\"\u001b[0m\u001b[0;34m]\u001b[0m \u001b[0;32mfor\u001b[0m \u001b[0mfruta\u001b[0m \u001b[0;32min\u001b[0m \u001b[0mself\u001b[0m\u001b[0;34m.\u001b[0m\u001b[0m_bandeja\u001b[0m\u001b[0;34m}\u001b[0m\u001b[0;34m)\u001b[0m\u001b[0;34m\u001b[0m\u001b[0;34m\u001b[0m\u001b[0m\n",
            "\u001b[0;32m<ipython-input-12-f57d66f561f8>\u001b[0m in \u001b[0;36mesta_enchufado\u001b[0;34m(self)\u001b[0m\n\u001b[1;32m      9\u001b[0m \u001b[0;34m\u001b[0m\u001b[0m\n\u001b[1;32m     10\u001b[0m       \u001b[0;32mif\u001b[0m \u001b[0mself\u001b[0m\u001b[0;34m.\u001b[0m\u001b[0menchufado\u001b[0m \u001b[0;34m==\u001b[0m \u001b[0;32mFalse\u001b[0m\u001b[0;34m:\u001b[0m\u001b[0;34m\u001b[0m\u001b[0;34m\u001b[0m\u001b[0m\n\u001b[0;32m---> 11\u001b[0;31m         raise Exception(\n\u001b[0m\u001b[1;32m     12\u001b[0m             \u001b[0;34m'Alerta ⚠️: El electrodoméstico no está enchufado'\u001b[0m\u001b[0;34m\u001b[0m\u001b[0;34m\u001b[0m\u001b[0m\n\u001b[1;32m     13\u001b[0m             )\n",
            "\u001b[0;31mException\u001b[0m: Alerta ⚠️: El electrodoméstico no está enchufado"
          ]
        }
      ],
      "source": [
        "jugera_2.preparar_jugo()"
      ]
    },
    {
      "cell_type": "code",
      "execution_count": 24,
      "metadata": {
        "cell_id": "c22db666b01740409ea10d8c65c3f4f0",
        "deepnote_cell_type": "code",
        "deepnote_to_be_reexecuted": false,
        "execution_millis": 3,
        "execution_start": 1648863398900,
        "source_hash": "d3e1edd9",
        "tags": [],
        "id": "poIBX7Z-ugbO"
      },
      "outputs": [],
      "source": [
        "# Enchufamos el electrodoméstico\n",
        "jugera_2.enchufar()"
      ]
    },
    {
      "cell_type": "code",
      "execution_count": 25,
      "metadata": {
        "cell_id": "b278da54f71e446ab773a9be8e47a921",
        "deepnote_cell_type": "code",
        "deepnote_to_be_reexecuted": false,
        "execution_millis": 17,
        "execution_start": 1648863400238,
        "source_hash": "b81f1f5b",
        "tags": [],
        "id": "QJMegFpOugbO",
        "colab": {
          "base_uri": "https://localhost:8080/",
          "height": 305
        },
        "outputId": "d279155a-756d-4a69-e10e-c1ce278fdd85"
      },
      "outputs": [
        {
          "output_type": "error",
          "ename": "ValueError",
          "evalue": "ignored",
          "traceback": [
            "\u001b[0;31m---------------------------------------------------------------------------\u001b[0m",
            "\u001b[0;31mValueError\u001b[0m                                Traceback (most recent call last)",
            "\u001b[0;32m<ipython-input-25-50e6459dff43>\u001b[0m in \u001b[0;36m<cell line: 2>\u001b[0;34m()\u001b[0m\n\u001b[1;32m      1\u001b[0m \u001b[0;31m# Esta celda debería levantar ina excepción informandoles que la bandeja no tiene ingredientes.\u001b[0m\u001b[0;34m\u001b[0m\u001b[0;34m\u001b[0m\u001b[0m\n\u001b[0;32m----> 2\u001b[0;31m \u001b[0mjugera_2\u001b[0m\u001b[0;34m.\u001b[0m\u001b[0mpreparar_jugo\u001b[0m\u001b[0;34m(\u001b[0m\u001b[0;34m)\u001b[0m\u001b[0;34m\u001b[0m\u001b[0;34m\u001b[0m\u001b[0m\n\u001b[0m",
            "\u001b[0;32m<ipython-input-21-a4c18a3915b1>\u001b[0m in \u001b[0;36mpreparar_jugo\u001b[0;34m(self)\u001b[0m\n\u001b[1;32m     82\u001b[0m           \u001b[0mprint\u001b[0m\u001b[0;34m(\u001b[0m\u001b[0;34mf\"Ingredientes en la bandeja: {frutas}\"\u001b[0m\u001b[0;34m)\u001b[0m\u001b[0;34m\u001b[0m\u001b[0;34m\u001b[0m\u001b[0m\n\u001b[1;32m     83\u001b[0m         \u001b[0;32melse\u001b[0m\u001b[0;34m:\u001b[0m\u001b[0;34m\u001b[0m\u001b[0;34m\u001b[0m\u001b[0m\n\u001b[0;32m---> 84\u001b[0;31m             raise ValueError(\n\u001b[0m\u001b[1;32m     85\u001b[0m               \u001b[0;34m'Error ❌: La bandeja no tiene ingredientes.'\u001b[0m\u001b[0;34m\u001b[0m\u001b[0;34m\u001b[0m\u001b[0m\n\u001b[1;32m     86\u001b[0m             )\n",
            "\u001b[0;31mValueError\u001b[0m: Error ❌: La bandeja no tiene ingredientes."
          ]
        }
      ],
      "source": [
        "# Esta celda debería levantar ina excepción informandoles que la bandeja no tiene ingredientes.\n",
        "jugera_2.preparar_jugo()"
      ]
    },
    {
      "cell_type": "code",
      "execution_count": 26,
      "metadata": {
        "cell_id": "3ad3896a485947d99be890cffca26f08",
        "deepnote_cell_type": "code",
        "deepnote_to_be_reexecuted": false,
        "execution_millis": 482,
        "execution_start": 1648863402271,
        "source_hash": "a016a727",
        "tags": [],
        "id": "XdJEnUDmugbO",
        "colab": {
          "base_uri": "https://localhost:8080/",
          "height": 305
        },
        "outputId": "c1249e10-bc62-48fb-d54b-7f8ef2a6278a"
      },
      "outputs": [
        {
          "output_type": "error",
          "ename": "ValueError",
          "evalue": "ignored",
          "traceback": [
            "\u001b[0;31m---------------------------------------------------------------------------\u001b[0m",
            "\u001b[0;31mValueError\u001b[0m                                Traceback (most recent call last)",
            "\u001b[0;32m<ipython-input-26-a2a110761309>\u001b[0m in \u001b[0;36m<cell line: 2>\u001b[0;34m()\u001b[0m\n\u001b[1;32m      1\u001b[0m \u001b[0;31m# Agregamos algunos ingredientes (en este caso, como son más de 3, fallará)\u001b[0m\u001b[0;34m\u001b[0m\u001b[0;34m\u001b[0m\u001b[0m\n\u001b[0;32m----> 2\u001b[0;31m \u001b[0mjugera_2\u001b[0m\u001b[0;34m.\u001b[0m\u001b[0mbandeja\u001b[0m \u001b[0;34m=\u001b[0m \u001b[0;34m[\u001b[0m\u001b[0mnaranja\u001b[0m\u001b[0;34m,\u001b[0m \u001b[0mplatano\u001b[0m\u001b[0;34m,\u001b[0m \u001b[0mfrutilla\u001b[0m\u001b[0;34m,\u001b[0m \u001b[0mlimon\u001b[0m\u001b[0;34m]\u001b[0m\u001b[0;34m\u001b[0m\u001b[0;34m\u001b[0m\u001b[0m\n\u001b[0m",
            "\u001b[0;32m<ipython-input-21-a4c18a3915b1>\u001b[0m in \u001b[0;36mbandeja\u001b[0;34m(self, nueva_bandeja)\u001b[0m\n\u001b[1;32m     19\u001b[0m               )\n\u001b[1;32m     20\u001b[0m         \u001b[0;32mif\u001b[0m \u001b[0mlen\u001b[0m\u001b[0;34m(\u001b[0m\u001b[0mnueva_bandeja\u001b[0m\u001b[0;34m)\u001b[0m \u001b[0;34m>\u001b[0m \u001b[0;36m3\u001b[0m\u001b[0;34m:\u001b[0m\u001b[0;34m\u001b[0m\u001b[0;34m\u001b[0m\u001b[0m\n\u001b[0;32m---> 21\u001b[0;31m           raise ValueError(\n\u001b[0m\u001b[1;32m     22\u001b[0m               \u001b[0;34m'Error ❌: La bandeja tiene demasiados ingredientes.'\u001b[0m\u001b[0;34m\u001b[0m\u001b[0;34m\u001b[0m\u001b[0m\n\u001b[1;32m     23\u001b[0m               )\n",
            "\u001b[0;31mValueError\u001b[0m: Error ❌: La bandeja tiene demasiados ingredientes."
          ]
        }
      ],
      "source": [
        "# Agregamos algunos ingredientes (en este caso, como son más de 3, fallará)\n",
        "jugera_2.bandeja = [naranja, platano, frutilla, limon]"
      ]
    },
    {
      "cell_type": "code",
      "execution_count": 27,
      "metadata": {
        "cell_id": "314f0f7e4621417b973ff5202c24e2b0",
        "deepnote_cell_type": "code",
        "deepnote_to_be_reexecuted": false,
        "execution_millis": 20,
        "execution_start": 1648863404537,
        "source_hash": "561a3ff9",
        "tags": [],
        "id": "5e4oWoBGugbO",
        "colab": {
          "base_uri": "https://localhost:8080/",
          "height": 322
        },
        "outputId": "f68e980b-4467-4204-dac2-9ce30321e61f"
      },
      "outputs": [
        {
          "output_type": "error",
          "ename": "ValueError",
          "evalue": "ignored",
          "traceback": [
            "\u001b[0;31m---------------------------------------------------------------------------\u001b[0m",
            "\u001b[0;31mValueError\u001b[0m                                Traceback (most recent call last)",
            "\u001b[0;32m<ipython-input-27-7b6a7af0ac43>\u001b[0m in \u001b[0;36m<cell line: 3>\u001b[0;34m()\u001b[0m\n\u001b[1;32m      1\u001b[0m \u001b[0;31m# Agregamos algunos ingredientes\u001b[0m\u001b[0;34m\u001b[0m\u001b[0;34m\u001b[0m\u001b[0m\n\u001b[1;32m      2\u001b[0m \u001b[0;31m# (en este caso debería fallar, ya que estamos entregando un string en el primer lugar)\u001b[0m\u001b[0;34m\u001b[0m\u001b[0;34m\u001b[0m\u001b[0m\n\u001b[0;32m----> 3\u001b[0;31m \u001b[0mjugera_2\u001b[0m\u001b[0;34m.\u001b[0m\u001b[0mbandeja\u001b[0m \u001b[0;34m=\u001b[0m \u001b[0;34m[\u001b[0m\u001b[0;34m\"naranja\"\u001b[0m\u001b[0;34m,\u001b[0m \u001b[0mplatano\u001b[0m\u001b[0;34m,\u001b[0m \u001b[0mfrutilla\u001b[0m\u001b[0;34m]\u001b[0m\u001b[0;34m\u001b[0m\u001b[0;34m\u001b[0m\u001b[0m\n\u001b[0m",
            "\u001b[0;32m<ipython-input-21-a4c18a3915b1>\u001b[0m in \u001b[0;36mbandeja\u001b[0;34m(self, nueva_bandeja)\u001b[0m\n\u001b[1;32m     26\u001b[0m           \u001b[0mordinales\u001b[0m \u001b[0;34m=\u001b[0m \u001b[0;34m[\u001b[0m\u001b[0;34m\"primer\"\u001b[0m\u001b[0;34m,\u001b[0m\u001b[0;34m\"segundo\"\u001b[0m\u001b[0;34m,\u001b[0m\u001b[0;34m\"tercer\"\u001b[0m\u001b[0;34m]\u001b[0m\u001b[0;34m\u001b[0m\u001b[0;34m\u001b[0m\u001b[0m\n\u001b[1;32m     27\u001b[0m           \u001b[0;32mif\u001b[0m \u001b[0;32mnot\u001b[0m \u001b[0misinstance\u001b[0m\u001b[0;34m(\u001b[0m\u001b[0mfruta\u001b[0m\u001b[0;34m,\u001b[0m \u001b[0mdict\u001b[0m\u001b[0;34m)\u001b[0m\u001b[0;34m:\u001b[0m\u001b[0;34m\u001b[0m\u001b[0;34m\u001b[0m\u001b[0m\n\u001b[0;32m---> 28\u001b[0;31m             raise ValueError(\n\u001b[0m\u001b[1;32m     29\u001b[0m                 \u001b[0;34m'Error ❌: El '\u001b[0m \u001b[0;34m+\u001b[0m \u001b[0mordinales\u001b[0m\u001b[0;34m[\u001b[0m\u001b[0mi\u001b[0m\u001b[0;34m]\u001b[0m \u001b[0;34m+\u001b[0m \u001b[0;34m' objeto de la bandeja no es una fruta.'\u001b[0m\u001b[0;34m\u001b[0m\u001b[0;34m\u001b[0m\u001b[0m\n\u001b[1;32m     30\u001b[0m                 )\n",
            "\u001b[0;31mValueError\u001b[0m: Error ❌: El primer objeto de la bandeja no es una fruta."
          ]
        }
      ],
      "source": [
        "# Agregamos algunos ingredientes \n",
        "# (en este caso debería fallar, ya que estamos entregando un string en el primer lugar)\n",
        "jugera_2.bandeja = [\"naranja\", platano, frutilla]"
      ]
    },
    {
      "cell_type": "code",
      "execution_count": 28,
      "metadata": {
        "cell_id": "976577e8b66343e38704f8597e85f175",
        "deepnote_cell_type": "code",
        "deepnote_to_be_reexecuted": false,
        "execution_millis": 2,
        "execution_start": 1648863408300,
        "source_hash": "ecc3586",
        "tags": [],
        "id": "aGv8x9ucugbO",
        "colab": {
          "base_uri": "https://localhost:8080/",
          "height": 322
        },
        "outputId": "0e9b1b72-1c4e-4603-a46f-e1b24b6e4870"
      },
      "outputs": [
        {
          "output_type": "error",
          "ename": "ValueError",
          "evalue": "ignored",
          "traceback": [
            "\u001b[0;31m---------------------------------------------------------------------------\u001b[0m",
            "\u001b[0;31mValueError\u001b[0m                                Traceback (most recent call last)",
            "\u001b[0;32m<ipython-input-28-4b28cdf8df59>\u001b[0m in \u001b[0;36m<cell line: 3>\u001b[0;34m()\u001b[0m\n\u001b[1;32m      1\u001b[0m \u001b[0;31m# Agregamos algunos ingredientes\u001b[0m\u001b[0;34m\u001b[0m\u001b[0;34m\u001b[0m\u001b[0m\n\u001b[1;32m      2\u001b[0m \u001b[0;31m# (en este caso debería fallar, ya que arándando tiene solo la llave nombre)\u001b[0m\u001b[0;34m\u001b[0m\u001b[0;34m\u001b[0m\u001b[0m\n\u001b[0;32m----> 3\u001b[0;31m \u001b[0mjugera_2\u001b[0m\u001b[0;34m.\u001b[0m\u001b[0mbandeja\u001b[0m \u001b[0;34m=\u001b[0m \u001b[0;34m[\u001b[0m\u001b[0;34m{\u001b[0m\u001b[0;34m'nombre'\u001b[0m\u001b[0;34m:\u001b[0m \u001b[0;34m'arándano'\u001b[0m\u001b[0;34m}\u001b[0m\u001b[0;34m,\u001b[0m \u001b[0mplatano\u001b[0m\u001b[0;34m,\u001b[0m \u001b[0mfrutilla\u001b[0m\u001b[0;34m]\u001b[0m\u001b[0;34m\u001b[0m\u001b[0;34m\u001b[0m\u001b[0m\n\u001b[0m",
            "\u001b[0;32m<ipython-input-21-a4c18a3915b1>\u001b[0m in \u001b[0;36mbandeja\u001b[0;34m(self, nueva_bandeja)\u001b[0m\n\u001b[1;32m     48\u001b[0m               \u001b[0matributos_frutales\u001b[0m \u001b[0;34m=\u001b[0m \u001b[0matributos_frutales\u001b[0m\u001b[0;34m[\u001b[0m\u001b[0;34m:\u001b[0m\u001b[0;34m-\u001b[0m\u001b[0;34m(\u001b[0m\u001b[0mlen\u001b[0m\u001b[0;34m(\u001b[0m\u001b[0mpropiedades_frutales\u001b[0m\u001b[0;34m[\u001b[0m\u001b[0;34m-\u001b[0m\u001b[0;36m1\u001b[0m\u001b[0;34m]\u001b[0m\u001b[0;34m)\u001b[0m\u001b[0;34m+\u001b[0m\u001b[0;36m2\u001b[0m\u001b[0;34m)\u001b[0m\u001b[0;34m]\u001b[0m\u001b[0;34m\u001b[0m\u001b[0;34m\u001b[0m\u001b[0m\n\u001b[1;32m     49\u001b[0m               \u001b[0matributos_frutales\u001b[0m \u001b[0;34m=\u001b[0m \u001b[0matributos_frutales\u001b[0m \u001b[0;34m+\u001b[0m \u001b[0;34m\" y \"\u001b[0m \u001b[0;34m+\u001b[0m \u001b[0mpropiedades_frutales\u001b[0m\u001b[0;34m[\u001b[0m\u001b[0;34m-\u001b[0m\u001b[0;36m1\u001b[0m\u001b[0;34m]\u001b[0m\u001b[0;34m\u001b[0m\u001b[0;34m\u001b[0m\u001b[0m\n\u001b[0;32m---> 50\u001b[0;31m               raise ValueError(\n\u001b[0m\u001b[1;32m     51\u001b[0m                 \u001b[0;34m'Error ❌: Los atributos '\u001b[0m \u001b[0;34m+\u001b[0m \u001b[0matributos_frutales\u001b[0m \u001b[0;34m+\u001b[0m \u001b[0;34m' de la '\u001b[0m \u001b[0;34m+\u001b[0m \u001b[0mordinales\u001b[0m\u001b[0;34m[\u001b[0m\u001b[0mi\u001b[0m\u001b[0;34m]\u001b[0m \u001b[0;34m+\u001b[0m \u001b[0;34m' fruta están desordenados o no están.'\u001b[0m\u001b[0;34m\u001b[0m\u001b[0;34m\u001b[0m\u001b[0m\n\u001b[1;32m     52\u001b[0m                 )  \n",
            "\u001b[0;31mValueError\u001b[0m: Error ❌: Los atributos \"tipo\", \"color\" y \"pepas\" de la primera fruta están desordenados o no están."
          ]
        }
      ],
      "source": [
        "# Agregamos algunos ingredientes \n",
        "# (en este caso debería fallar, ya que arándando tiene solo la llave nombre)\n",
        "jugera_2.bandeja = [{'nombre': 'arándano'}, platano, frutilla]"
      ]
    },
    {
      "cell_type": "code",
      "execution_count": 29,
      "metadata": {
        "cell_id": "4403aaea7e044305bb5a8488d71e42f9",
        "deepnote_cell_type": "code",
        "deepnote_to_be_reexecuted": false,
        "execution_millis": 6,
        "execution_start": 1648863409767,
        "source_hash": "b2bcbf",
        "tags": [],
        "id": "gBtvUaP0ugbP",
        "colab": {
          "base_uri": "https://localhost:8080/"
        },
        "outputId": "83ea1505-10af-4983-936b-ca5823bbae38"
      },
      "outputs": [
        {
          "output_type": "stream",
          "name": "stdout",
          "text": [
            "Ingredientes en la bandeja: naranja, plátano y frutilla\n"
          ]
        }
      ],
      "source": [
        "# Agregamos algunos ingredintes (en este caso, como son 3, debería funcionar)\n",
        "jugera_2.bandeja = [naranja, platano, frutilla]\n",
        "\n",
        "# Y los listamos (debería imprimir: 'Ingredientes en la bandeja: naranja, plátano')\n",
        "jugera_2.listar_ingredientes()"
      ]
    },
    {
      "cell_type": "code",
      "execution_count": 30,
      "metadata": {
        "cell_id": "4b88a24abdc44fcfb5ea294a852bf921",
        "deepnote_cell_type": "code",
        "deepnote_to_be_reexecuted": false,
        "execution_millis": 5,
        "execution_start": 1648863411760,
        "source_hash": "a9d685c1",
        "tags": [],
        "id": "QdW1X7m7ugbP",
        "colab": {
          "base_uri": "https://localhost:8080/",
          "height": 70
        },
        "outputId": "ce854875-a806-405f-aa42-76f4a73b54a2"
      },
      "outputs": [
        {
          "output_type": "stream",
          "name": "stdout",
          "text": [
            "Ingredientes en la bandeja: plátano, naranja y frutilla\n",
            "Alerta ⚠️: El jugo puede contener restos de pepas.\n"
          ]
        },
        {
          "output_type": "execute_result",
          "data": {
            "text/plain": [
              "'Jugo de plátano, naranja y frutilla listo. 🏖️🥤 Que lo disfrutes!!! 🥤🏖️'"
            ],
            "application/vnd.google.colaboratory.intrinsic+json": {
              "type": "string"
            }
          },
          "metadata": {},
          "execution_count": 30
        }
      ],
      "source": [
        "# Una vez preparado el jugo, imprima el contenido del jugo y si una alerta, \n",
        "# en el caso que el jugo tenga pepas.\n",
        "jugera_2.preparar_jugo()"
      ]
    },
    {
      "cell_type": "code",
      "execution_count": 31,
      "metadata": {
        "cell_id": "5d8468e21edd4cecab85b9c04df71094",
        "deepnote_cell_type": "code",
        "id": "TyPviVhQugbP",
        "colab": {
          "base_uri": "https://localhost:8080/"
        },
        "outputId": "b6bbea7e-ff15-4c02-d8fd-bfaf982bb213"
      },
      "outputs": [
        {
          "output_type": "stream",
          "name": "stdout",
          "text": [
            "Bandeja vacía\n"
          ]
        }
      ],
      "source": [
        "# Una vez preparado el jugo, debería vaciarse la bandeja (imprimir Bandeja vacía)\n",
        "jugera_2.listar_ingredientes()"
      ]
    },
    {
      "cell_type": "markdown",
      "metadata": {
        "created_in_deepnote_cell": true,
        "deepnote_cell_type": "markdown",
        "id": "bFRuKDkAugbP"
      },
      "source": [
        "<a style='text-decoration:none;line-height:16px;display:flex;color:#5B5B62;padding:10px;justify-content:end;' href='https://deepnote.com?utm_source=created-in-deepnote-cell&projectId=87110296-876e-426f-b91d-aaf681223468' target=\"_blank\">\n",
        "<img alt='Created in deepnote.com' style='display:inline;max-height:16px;margin:0px;margin-right:7.5px;' src='data:image/svg+xml;base64,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' > </img>\n",
        "Created in <span style='font-weight:600;margin-left:4px;'>Deepnote</span></a>"
      ]
    }
  ],
  "metadata": {
    "colab": {
      "provenance": []
    },
    "deepnote": {},
    "deepnote_execution_queue": [],
    "deepnote_notebook_id": "9ab947a9e176401fb56de9443c666a4a",
    "kernelspec": {
      "display_name": "Python 3",
      "language": "python",
      "name": "python3"
    },
    "language_info": {
      "codemirror_mode": {
        "name": "ipython",
        "version": 3
      },
      "file_extension": ".py",
      "mimetype": "text/x-python",
      "name": "python",
      "nbconvert_exporter": "python",
      "pygments_lexer": "ipython3",
      "version": "3.8.8"
    }
  },
  "nbformat": 4,
  "nbformat_minor": 0
}